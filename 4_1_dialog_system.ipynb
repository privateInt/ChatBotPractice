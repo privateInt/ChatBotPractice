{
 "cells": [
  {
   "cell_type": "code",
   "execution_count": 3,
   "metadata": {},
   "outputs": [],
   "source": [
    "import os\n",
    "import sys\n",
    "import json\n",
    "import random\n",
    "import pandas as pd\n",
    "import numpy as np\n",
    "from collections import deque\n",
    "from src.model import BiLSTM_CRF, MakeEmbed, textCNN, EpochLogger, save\n",
    "from src.dataset import Preprocessing, MakeDataset\n",
    "from src.NLU import NaturalLanguageUnderstanding\n",
    "from src.DM import DialogManager, E2E_dialog\n",
    "\n",
    "class DialogSystem:\n",
    "    def __init__(self):\n",
    "        intent_pretrain_path = \"./data/pretraining/save/1_intent_clsf_model/intent_clsf_97.217_steps_33.pt\"\n",
    "        entity_pretrain_path = \"./data/pretraining/save/1_entity_recog_model/entity_recog_97.192_steps_7.pt\"\n",
    "        ood_pretrain_path = \"./data/pretraining/save/1_ood_clsf_model/ood_clsf_99.724_steps_5.pt\"\n",
    "        chitchat_pretrain_path = \"./data/pretraining/save/4_chitchat_transformer_model/chitchat_transformer_1.215381_steps_81.pt\"\n",
    "\n",
    "        self.NLU = NaturalLanguageUnderstanding()\n",
    "\n",
    "        self.NLU.model_load(intent_pretrain_path, entity_pretrain_path, ood_pretrain_path)\n",
    "        self.dm = DialogManager()\n",
    "\n",
    "        self.e2e = E2E_dialog(self.NLU.dataset,chitchat_pretrain_path)\n",
    "        self.result = {\n",
    "            \"DM_result\": {},\n",
    "            \"E2E_result\" : [],\n",
    "            \"NLG\"  : \"\",\n",
    "        }\n",
    "    def task_oriented_dialog_system(self, q):\n",
    "        NLU_result = self.NLU.run(q)\n",
    "\n",
    "        system_response = self.dm.run(NLU_result)\n",
    "        return system_response\n",
    "    \n",
    "    def chit_chat_dialog_system(self, q):\n",
    "        system_response = self.e2e.predict(q)\n",
    "        return system_response\n",
    "    \n",
    "    def ranking(self, dm_result, chitchat_result):\n",
    "        self.result[\"DM_result\"] = dm_result\n",
    "        self.result[\"E2E_result\"] = list(chitchat_result)\n",
    "        dm_nlg = dm_result['NLG']\n",
    "        \n",
    "        if(not dm_nlg == []):\n",
    "            self.result[\"NLG\"] = dm_nlg\n",
    "            return self.result\n",
    "        else:\n",
    "            score = chitchat_result[1]\n",
    "            print(score)\n",
    "            if(score>0.05):\n",
    "                self.result[\"NLG\"] = chitchat_result[0]\n",
    "                return self.result\n",
    "            else:\n",
    "                self.result[\"NLG\"] = \"죄송합니다. 다시 말해주세요.\"\n",
    "                return self.result\n",
    "            \n",
    "    def run(self, q):\n",
    "        dm_result = self.task_oriented_dialog_system(q)\n",
    "        chitchat_result = self.chit_chat_dialog_system(q)\n",
    "        result = self.ranking(dm_result, chitchat_result)\n",
    "        return result\n",
    "    "
   ]
  },
  {
   "cell_type": "code",
   "execution_count": 62,
   "metadata": {},
   "outputs": [],
   "source": [
    "dialogsystem = DialogSystem()"
   ]
  },
  {
   "cell_type": "code",
   "execution_count": 63,
   "metadata": {},
   "outputs": [],
   "source": [
    "result=dialogsystem.run(\"안녕\")"
   ]
  },
  {
   "cell_type": "code",
   "execution_count": 64,
   "metadata": {},
   "outputs": [
    {
     "data": {
      "text/plain": [
       "{'DM_result': {'STATE': 'DS_REQ_USER_INPUT',\n",
       "  'SLOT': ['LOCATION^안녕'],\n",
       "  'NLU': {'INTENT': 'ood', 'SLOT': ['LOCATION^안녕']},\n",
       "  'NLG': ['안녕하세요! 날씨 미세먼지 여행 식당에 대해 물어봐주세요!']},\n",
       " 'E2E_result': ['알면서도 데이는 인정하고 호의를 보답하세요야할개월이 망설여지야할개월이 망설여지야할개월이 망설여지야할개월이 망설여지야할 아이돌이 봅니다 인정하고 호의를 보답하세요 실망하지 그리워서 친해 수도 있겠네요 준비하면서 들어주세요 준비하면서 들어주세요 준비하면서 들어주세요 준비하면서 들어주세요겠지만 즐겁게 소액결제를 해가 깍아 설명해보세요야할 부분이니야할 부분이니야할',\n",
       "  0.026331137865781784],\n",
       " 'NLG': ['안녕하세요! 날씨 미세먼지 여행 식당에 대해 물어봐주세요!']}"
      ]
     },
     "execution_count": 64,
     "metadata": {},
     "output_type": "execute_result"
    }
   ],
   "source": [
    "result"
   ]
  },
  {
   "cell_type": "code",
   "execution_count": 65,
   "metadata": {},
   "outputs": [],
   "source": [
    "result=dialogsystem.run(\"인천 맛집\")"
   ]
  },
  {
   "cell_type": "code",
   "execution_count": 66,
   "metadata": {},
   "outputs": [
    {
     "data": {
      "text/plain": [
       "{'DM_result': {'STATE': 'DS_REQ_USER_INPUT',\n",
       "  'SLOT': ['LOCATION^인천'],\n",
       "  'NLU': {'INTENT': 'restaurant', 'SLOT': ['LOCATION^인천']},\n",
       "  'NLG': ['인천 주변의 추천 식당은 OOOO입니다.']},\n",
       " 'E2E_result': ['관계의 개선을 필요하겠네요하느냐에.', 0.07287415117025375],\n",
       " 'NLG': ['인천 주변의 추천 식당은 OOOO입니다.']}"
      ]
     },
     "execution_count": 66,
     "metadata": {},
     "output_type": "execute_result"
    }
   ],
   "source": [
    "result"
   ]
  },
  {
   "cell_type": "code",
   "execution_count": 67,
   "metadata": {},
   "outputs": [],
   "source": [
    "result=dialogsystem.run(\"미세먼지 알려줘\")"
   ]
  },
  {
   "cell_type": "code",
   "execution_count": 68,
   "metadata": {},
   "outputs": [
    {
     "data": {
      "text/plain": [
       "{'DM_result': {'STATE': 'DS_REQ_USER_INPUT',\n",
       "  'SLOT': [],\n",
       "  'NLU': {'INTENT': 'dust', 'SLOT': []},\n",
       "  'NLG': ['오늘 서울의 미세먼지는 좋음입니다.']},\n",
       " 'E2E_result': ['마스크 쓰고 나가세요. 그렇지만 조금 힘들어져요 되어달라고 인터넷 검색가 꿰메보세요 지켜보세요 봅니다 인정하고 호의를 보답하세요 집착하는 포인트가 따라 다르겠죠 따라 다르겠죠 따라 다르겠죠 않았나봐요 조금이라도야할지 조금이라도야할지 조금이라도야할지 조금이라도야할지 조금이라도야할지 인터넷 검색가 지켜보세요 두셨네요 필요했을텐데 따라 다르겠죠 따라 다르겠죠 않았나봐요 조금이라도',\n",
       "  0.07088179886341095],\n",
       " 'NLG': ['오늘 서울의 미세먼지는 좋음입니다.']}"
      ]
     },
     "execution_count": 68,
     "metadata": {},
     "output_type": "execute_result"
    }
   ],
   "source": [
    "result"
   ]
  },
  {
   "cell_type": "code",
   "execution_count": 69,
   "metadata": {},
   "outputs": [],
   "source": [
    "result=dialogsystem.run(\"대전\")"
   ]
  },
  {
   "cell_type": "code",
   "execution_count": 70,
   "metadata": {},
   "outputs": [
    {
     "data": {
      "text/plain": [
       "{'DM_result': {'STATE': 'DS_REQ_USER_INPUT',\n",
       "  'SLOT': ['LOCATION^대전'],\n",
       "  'NLU': {'INTENT': 'ood', 'SLOT': ['LOCATION^대전']},\n",
       "  'NLG': ['오늘 대전의 미세먼지는 좋음입니다.']},\n",
       " 'E2E_result': ['소개팅 시켜달라고 올 기대돼 넓으신가봐요 거예요.', 0.15332584083080292],\n",
       " 'NLG': ['오늘 대전의 미세먼지는 좋음입니다.']}"
      ]
     },
     "execution_count": 70,
     "metadata": {},
     "output_type": "execute_result"
    }
   ],
   "source": [
    "result"
   ]
  },
  {
   "cell_type": "code",
   "execution_count": 76,
   "metadata": {},
   "outputs": [
    {
     "data": {
      "text/plain": [
       "{'DM_result': {'STATE': 'DS_REQ_USER_INPUT',\n",
       "  'SLOT': [],\n",
       "  'NLU': {'INTENT': 'weather', 'SLOT': []},\n",
       "  'NLG': ['오늘 서울의 날씨는 흐림입니다.']},\n",
       " 'E2E_result': ['나들이 가보세요.', 0.17587050795555115],\n",
       " 'NLG': ['오늘 서울의 날씨는 흐림입니다.']}"
      ]
     },
     "execution_count": 76,
     "metadata": {},
     "output_type": "execute_result"
    }
   ],
   "source": [
    "dialogsystem.run(\"날씨 알려줘\")"
   ]
  },
  {
   "cell_type": "code",
   "execution_count": 72,
   "metadata": {},
   "outputs": [
    {
     "name": "stdout",
     "output_type": "stream",
     "text": [
      "0.25442710518836975\n"
     ]
    }
   ],
   "source": [
    "result=dialogsystem.run(\"난 혼자인게 좋아\")"
   ]
  },
  {
   "cell_type": "code",
   "execution_count": 73,
   "metadata": {},
   "outputs": [
    {
     "data": {
      "text/plain": [
       "{'DM_result': {'STATE': '', 'SLOT': '', 'NLU': {}, 'NLG': []},\n",
       " 'E2E_result': ['이제 일어날 시간이에요 놓아주세요.', 0.25442710518836975],\n",
       " 'NLG': '이제 일어날 시간이에요 놓아주세요.'}"
      ]
     },
     "execution_count": 73,
     "metadata": {},
     "output_type": "execute_result"
    }
   ],
   "source": [
    "result"
   ]
  },
  {
   "cell_type": "code",
   "execution_count": 74,
   "metadata": {},
   "outputs": [
    {
     "name": "stdout",
     "output_type": "stream",
     "text": [
      "0.2911197543144226\n"
     ]
    }
   ],
   "source": [
    "result=dialogsystem.run(\"꽃을 좋아해\")"
   ]
  },
  {
   "cell_type": "code",
   "execution_count": 75,
   "metadata": {},
   "outputs": [
    {
     "data": {
      "text/plain": [
       "{'DM_result': {'STATE': '', 'SLOT': '', 'NLU': {}, 'NLG': []},\n",
       " 'E2E_result': ['좋은 회사 근처로 이사를 가보세요.', 0.2911197543144226],\n",
       " 'NLG': '좋은 회사 근처로 이사를 가보세요.'}"
      ]
     },
     "execution_count": 75,
     "metadata": {},
     "output_type": "execute_result"
    }
   ],
   "source": [
    "result"
   ]
  },
  {
   "cell_type": "code",
   "execution_count": 77,
   "metadata": {},
   "outputs": [
    {
     "name": "stdin",
     "output_type": "stream",
     "text": [
      " 안녕\n"
     ]
    },
    {
     "name": "stdout",
     "output_type": "stream",
     "text": [
      "['안녕하세요! 날씨 미세먼지 여행 식당에 대해 물어봐주세요!']\n"
     ]
    },
    {
     "name": "stdin",
     "output_type": "stream",
     "text": [
      " 미세먼지 알려줘\n"
     ]
    },
    {
     "name": "stdout",
     "output_type": "stream",
     "text": [
      "['오늘 서울의 미세먼지는 좋음입니다.']\n"
     ]
    },
    {
     "name": "stdin",
     "output_type": "stream",
     "text": [
      " 대전은\n"
     ]
    },
    {
     "name": "stdout",
     "output_type": "stream",
     "text": [
      "0.07700034976005554\n",
      "나쁜 생각 멈추세요 중요한 가혹 가리세요 거겠죠.\n"
     ]
    },
    {
     "name": "stdin",
     "output_type": "stream",
     "text": [
      " 대전\n"
     ]
    },
    {
     "name": "stdout",
     "output_type": "stream",
     "text": [
      "['오늘 대전의 미세먼지는 좋음입니다.']\n"
     ]
    },
    {
     "name": "stdin",
     "output_type": "stream",
     "text": [
      " 사랑해\n"
     ]
    },
    {
     "name": "stdout",
     "output_type": "stream",
     "text": [
      "0.08125023543834686\n",
      "마음의 준비를 해봐요 사람을 변덕쟁이 좋을 하는 수도 있겠네요 물어보세요 좋을 하는 수도 있겠네요 물어보세요 좋을 하는 수도 있겠네요 물어보세요 좋을 하는 수도 있겠네요 물어보세요 좋을 하는 수도 있겠네요 물어보세요 좋을 하는 수도 있겠네요 물어보세요 좋을 하는 수도 있겠네요 물어보세요 좋을 하는 수도 있겠네요 물어보세요 좋을 하는 수도 있겠네요\n"
     ]
    },
    {
     "name": "stdin",
     "output_type": "stream",
     "text": [
      " end\n"
     ]
    }
   ],
   "source": [
    "dialogsystem.dm.clear()\n",
    "\n",
    "q = \"\"\n",
    "q = input()\n",
    "while(q!=\"end\"):\n",
    "    \n",
    "    result=dialogsystem.run(q)\n",
    "    print(result['NLG'])\n",
    "    q = input()\n",
    "    \n",
    "dialogsystem.dm.clear()"
   ]
  },
  {
   "cell_type": "code",
   "execution_count": null,
   "metadata": {},
   "outputs": [],
   "source": []
  }
 ],
 "metadata": {
  "kernelspec": {
   "display_name": "Python 3",
   "language": "python",
   "name": "python3"
  },
  "language_info": {
   "codemirror_mode": {
    "name": "ipython",
    "version": 3
   },
   "file_extension": ".py",
   "mimetype": "text/x-python",
   "name": "python",
   "nbconvert_exporter": "python",
   "pygments_lexer": "ipython3",
   "version": "3.7.6"
  }
 },
 "nbformat": 4,
 "nbformat_minor": 5
}

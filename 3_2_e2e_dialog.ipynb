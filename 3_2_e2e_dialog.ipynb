{
 "cells": [
  {
   "cell_type": "code",
   "execution_count": 1,
   "metadata": {},
   "outputs": [],
   "source": [
    "import re\n",
    "import torch\n",
    "\n",
    "from src.model import Tformer, save\n",
    "from src.dataset import Preprocessing, MakeDataset"
   ]
  },
  {
   "cell_type": "code",
   "execution_count": 2,
   "metadata": {},
   "outputs": [],
   "source": [
    "class E2E_dialog:\n",
    "    def __init__(self, dataset, model_path):\n",
    "        self.vocab = dataset.transformers_tokenizer\n",
    "        self.vocab_size = dataset.transformers_tokenizer.vocab_size()\n",
    "        \n",
    "        self.model = Tformer(num_tokens=self.vocab_size, dim_model=256, num_heads=8, dff=512, num_layers=2, dropout_p=0.1)\n",
    "        device = torch.device('cpu')\n",
    "        self.model.load_state_dict(torch.load(model_path, map_location=device))\n",
    "        self.model.eval()\n",
    "        self.MAX_LENGTH = 50\n",
    "        \n",
    "    def preprocess_sentence(self, sentence):\n",
    "        sentence = re.sub(r\"([?.!,])\", r\" \\1 \", sentence)\n",
    "        sentence = sentence.strip()\n",
    "        return sentence\n",
    "\n",
    "    def evaluate(self, sentence):\n",
    "        sentence = self.preprocess_sentence(sentence)\n",
    "        input = torch.tensor([[2] + self.vocab.encode_as_ids(sentence) + [3]])\n",
    "        output = torch.tensor([[2]])\n",
    "\n",
    "        # 디코더의 예측 시작\n",
    "        ps = []\n",
    "        for i in range(self.MAX_LENGTH):\n",
    "            src_mask = self.model.generate_square_subsequent_mask(input.shape[1])\n",
    "            tgt_mask = self.model.generate_square_subsequent_mask(output.shape[1])\n",
    "\n",
    "            src_padding_mask = self.model.gen_attention_mask(input)\n",
    "            tgt_padding_mask = self.model.gen_attention_mask(output)\n",
    "\n",
    "            predictions = self.model(input, output, src_mask, tgt_mask, src_padding_mask, tgt_padding_mask).transpose(0,1)\n",
    "            # 현재(마지막) 시점의 예측 단어를 받아온다.\n",
    "            predictions = predictions[:, -1:, :]\n",
    "            predictions = torch.softmax(predictions.view(-1).cpu(), dim=0)\n",
    "            predictions = torch.max(predictions, axis = -1)\n",
    "            predicted_p = predictions.values\n",
    "            ps.append(predicted_p)\n",
    "            predicted_id =predictions.indices.view(1,1)\n",
    "\n",
    "\n",
    "            # 만약 마지막 시점의 예측 단어가 종료 토큰이라면 예측을 중단\n",
    "            if torch.equal(predicted_id[0][0], torch.tensor(3)):\n",
    "                break\n",
    "\n",
    "            # 마지막 시점의 예측 단어를 출력에 연결한다.\n",
    "            # 이는 for문을 통해서 디코더의 입력으로 사용될 예정이다.\n",
    "            output = torch.cat([output, predicted_id], axis=1)\n",
    "\n",
    "        return torch.squeeze(output, axis=0).cpu().numpy(), (sum(ps)/len(ps)).detach().numpy()\n",
    "\n",
    "    def predict(self, sentence):\n",
    "        prediction, predicted_sentence_p = self.evaluate(sentence)\n",
    "        predicted_sentence = self.vocab.Decode(list(map(int,[i for i in prediction if i < self.vocab_size])))\n",
    "\n",
    "        print('Input: {}'.format(sentence))\n",
    "        print('Output: {}'.format(predicted_sentence))\n",
    "\n",
    "        return predicted_sentence, predicted_sentence_p"
   ]
  },
  {
   "cell_type": "code",
   "execution_count": 3,
   "metadata": {},
   "outputs": [],
   "source": [
    "chitchat_pretrain_path = \"./data/pretraining/save/4_chitchat_transformer_model/chitchat_transformer_1.215381_steps_81.pt\""
   ]
  },
  {
   "cell_type": "code",
   "execution_count": 4,
   "metadata": {},
   "outputs": [],
   "source": [
    "dataset = MakeDataset()\n",
    "e2e = E2E_dialog(dataset,chitchat_pretrain_path)"
   ]
  },
  {
   "cell_type": "code",
   "execution_count": 5,
   "metadata": {},
   "outputs": [
    {
     "name": "stdout",
     "output_type": "stream",
     "text": [
      "Input: 난 뭘 해야 할까?\n",
      "Output: 모르는 사실에 더 화가 나 있을 거예요.\n",
      "CPU times: user 70.1 ms, sys: 18.4 ms, total: 88.5 ms\n",
      "Wall time: 112 ms\n"
     ]
    }
   ],
   "source": [
    "%%time\n",
    "s, p = e2e.predict(\"난 뭘 해야 할까?\")"
   ]
  },
  {
   "cell_type": "code",
   "execution_count": 6,
   "metadata": {},
   "outputs": [
    {
     "data": {
      "text/plain": [
       "0.4046001136302948"
      ]
     },
     "execution_count": 6,
     "metadata": {},
     "output_type": "execute_result"
    }
   ],
   "source": [
    "float(p)"
   ]
  },
  {
   "cell_type": "code",
   "execution_count": null,
   "metadata": {},
   "outputs": [],
   "source": []
  }
 ],
 "metadata": {
  "kernelspec": {
   "display_name": "Python 3",
   "language": "python",
   "name": "python3"
  },
  "language_info": {
   "codemirror_mode": {
    "name": "ipython",
    "version": 3
   },
   "file_extension": ".py",
   "mimetype": "text/x-python",
   "name": "python",
   "nbconvert_exporter": "python",
   "pygments_lexer": "ipython3",
   "version": "3.7.6"
  }
 },
 "nbformat": 4,
 "nbformat_minor": 5
}

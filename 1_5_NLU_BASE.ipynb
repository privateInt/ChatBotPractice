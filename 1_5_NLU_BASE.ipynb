{
 "cells": [
  {
   "cell_type": "code",
   "execution_count": 9,
   "metadata": {},
   "outputs": [],
   "source": [
    "import os\n",
    "import sys\n",
    "import json\n",
    "import torch\n",
    "import random\n",
    "\n",
    "from src.model import BiLSTM_CRF, MakeEmbed, textCNN, DAN, EpochLogger, save\n",
    "from src.dataset import Preprocessing, MakeDataset\n",
    "\n",
    "class NaturalLanguageUnderstanding:\n",
    "    \n",
    "    def __init__(self):\n",
    "        self.dataset = MakeDataset()\n",
    "        self.embed = MakeEmbed()\n",
    "        self.embed.load_word2vec()\n",
    "\n",
    "        self.weights = self.embed.word2vec.wv.vectors\n",
    "        self.weights = torch.FloatTensor(self.weights)\n",
    "        \n",
    "        self.intent_clsf = textCNN(self.weights, 256, [3,4,5], 0.5, len(self.dataset.intent_label))\n",
    "        self.slot_tagger = BiLSTM_CRF(self.weights, self.dataset.entity_label, 256, 128)\n",
    "        self.ood_detector = DAN(self.weights, 256, 0.5, 2)\n",
    "        \n",
    "    def init_NLU_result(self): # NLU 결과 \n",
    "        NLU_result = {\n",
    "                    \"INTENT\" : \"\",\n",
    "                    \"SLOT\"   :[\n",
    "            \n",
    "                        ]\n",
    "                    }\n",
    "        return NLU_result\n",
    "    \n",
    "    def model_load(self, intent_path, slot_path, ood_path):\n",
    "        self.intent_clsf.load_state_dict(torch.load(intent_path))\n",
    "        self.slot_tagger.load_state_dict(torch.load(slot_path))\n",
    "        self.ood_detector.load_state_dict(torch.load(ood_path))\n",
    "        self.intent_clsf.eval()\n",
    "        self.slot_tagger.eval()\n",
    "        self.ood_detector.eval()\n",
    "        \n",
    "    def predict(self, query):\n",
    "        x = self.dataset.prep.pad_idx_sequencing(self.embed.query2idx(self.dataset.tokenize(query)))\n",
    "\n",
    "        x = torch.tensor(x)\n",
    "        '''\n",
    "        ood dectector\n",
    "        '''\n",
    "        f = self.ood_detector(x.unsqueeze(0))\n",
    "        ood = torch.argmax(f).tolist()\n",
    "        print(ood)\n",
    "        if(ood):\n",
    "            '''\n",
    "            intent clsf\n",
    "            '''\n",
    "            f = self.intent_clsf(x.unsqueeze(0))\n",
    "\n",
    "            intent = self.dataset.intents[torch.argmax(f).tolist()]\n",
    "        else:\n",
    "            intent = \"ood\"\n",
    "\n",
    "        '''\n",
    "        slot tagger\n",
    "        '''\n",
    "        f = self.slot_tagger(x.unsqueeze(0))\n",
    "\n",
    "        mask = torch.where(x > 0, torch.tensor([1.]), torch.tensor([0.])).type(torch.uint8)\n",
    "\n",
    "        predict = self.slot_tagger.decode(f,mask.view(1,-1))\n",
    "        return intent, predict\n",
    "    \n",
    "    def convert_nlu_result(self, query, intent, predict):\n",
    "        NLU_result = self.init_NLU_result()\n",
    "        x_token =query.split()\n",
    "\n",
    "        # slot 태깅된 token 후처리\n",
    "        '''\n",
    "        q : 제주도 맛집\n",
    "        NLU.nlu_predict : ['restaurant', [[12, 0]]]\n",
    "                                            [12, 0] = [S-LOCATION, O]\n",
    "                                            \n",
    "        '''\n",
    "        slots = [] # 후처리된 SLOT들 저장\n",
    "        BIE = []   # 후처리가 필요한 SLOT모아두기\n",
    "        prev = \"\";\n",
    "        for i, slot in enumerate([self.dataset.entitys[p] for p in predict[0]]):\n",
    "            name = slot[2:]\n",
    "\n",
    "            if(\"S-\" in slot):\n",
    "                if(BIE != []): \n",
    "                    '''\n",
    "                    B-LOCATION, I-LOCATION, S-DATE 인 경우\n",
    "                    S-DATE 이전에 BIE에 담긴 B-LOCATION, I-LOCATION 들을 저장\n",
    "                    '''\n",
    "                    slots.append(prev[2:] +\"^\"+\" \".join(BIE))\n",
    "                    BIE = []\n",
    "                slots.append(name+\"^\"+x_token[i])\n",
    "            elif(\"B-\" in slot): \n",
    "                '''\n",
    "                뒤에 합쳐야하는 SLOT이 등장할 예정이므로 BIE에 저장\n",
    "                '''\n",
    "                BIE.append(x_token[i])\n",
    "                prev = slot\n",
    "            elif(\"I-\" in slot and \"B\" in prev):\n",
    "                '''\n",
    "                뒤에 합쳐야하는 SLOT이 등장할 예정이므로 BIE에 저장\n",
    "                '''\n",
    "                BIE.append(x_token[i])\n",
    "                prev = slot\n",
    "            elif(\"E-\" in slot and (\"I\" in prev or \"B\" in prev)):\n",
    "                '''\n",
    "                SLOT의 끝에 도달했으므로\n",
    "                BIE에 저장된 TOKEN을 SLOTS으로 JOIN하여 저장\n",
    "                '''\n",
    "                BIE.append(x_token[i])\n",
    "                slots.append(name+\"^\"+\" \".join(BIE))\n",
    "                BIE = []\n",
    "            else:\n",
    "                '''\n",
    "                O인 경우 BIE가 있으면 저장 \n",
    "                '''\n",
    "                if(BIE != []):\n",
    "                    slots.append(prev[2:]+\"^\"+\" \".join(BIE))\n",
    "                    BIE = []\n",
    "        NLU_result[\"INTENT\"] = intent\n",
    "        NLU_result[\"SLOT\"]   = slots\n",
    "        return NLU_result\n",
    "    \n",
    "    def run(self, query):\n",
    "        intent, predict = self.predict(query)\n",
    "        self.nlu_predict = [intent, predict]\n",
    "        NLU_result = self.convert_nlu_result(query, intent, predict)\n",
    "        return NLU_result\n",
    "    \n",
    "    def print_nlu_result(self, nlu_result):\n",
    "        print('발화 의도 : ' + nlu_result.get('INTENT'))\n",
    "        print('발화 개체 : ')\n",
    "        for slot_concat in nlu_result.get('SLOT'):\n",
    "            slot_name = slot_concat.split('^')[0]\n",
    "            slot_value = slot_concat.split('^')[1]\n",
    "            print(\"    \"+slot_name + \" : \" + slot_value)"
   ]
  },
  {
   "cell_type": "code",
   "execution_count": 10,
   "metadata": {},
   "outputs": [],
   "source": [
    "intent_pretrain_path = \"./data/pretraining/save/1_intent_clsf_model/intent_clsf_97.217_steps_33.pt\"\n",
    "entity_pretrain_path = \"./data/pretraining/save/1_entity_recog_model/entity_recog_97.192_steps_7.pt\"\n",
    "ood_pretrain_path = \"./data/pretraining/save/1_ood_clsf_model/ood_clsf_99.724_steps_5.pt\""
   ]
  },
  {
   "cell_type": "code",
   "execution_count": 11,
   "metadata": {},
   "outputs": [],
   "source": [
    "NLU = NaturalLanguageUnderstanding()\n",
    "\n",
    "NLU.model_load(intent_pretrain_path, entity_pretrain_path, ood_pretrain_path)"
   ]
  },
  {
   "cell_type": "code",
   "execution_count": 12,
   "metadata": {},
   "outputs": [
    {
     "name": "stdout",
     "output_type": "stream",
     "text": [
      "1\n",
      "발화 의도 : restaurant\n",
      "발화 개체 : \n",
      "    LOCATION : 제주도\n"
     ]
    }
   ],
   "source": [
    "NLU_result = NLU.run(\"제주도 맛집\")\n",
    "\n",
    "NLU.print_nlu_result(NLU_result)"
   ]
  },
  {
   "cell_type": "code",
   "execution_count": 13,
   "metadata": {},
   "outputs": [
    {
     "name": "stdout",
     "output_type": "stream",
     "text": [
      "1\n",
      "발화 의도 : weather\n",
      "발화 개체 : \n",
      "    DATE : 오늘\n",
      "    LOCATION : 제주도\n"
     ]
    }
   ],
   "source": [
    "NLU_result = NLU.run(\"오늘 제주도 날씨\")\n",
    "\n",
    "NLU.print_nlu_result(NLU_result)"
   ]
  },
  {
   "cell_type": "code",
   "execution_count": 14,
   "metadata": {},
   "outputs": [
    {
     "name": "stdout",
     "output_type": "stream",
     "text": [
      "0\n",
      "발화 의도 : ood\n",
      "발화 개체 : \n",
      "    LOCATION : 제주도\n"
     ]
    }
   ],
   "source": [
    "NLU_result = NLU.run(\"제주도\")\n",
    "\n",
    "NLU.print_nlu_result(NLU_result)"
   ]
  },
  {
   "cell_type": "code",
   "execution_count": 15,
   "metadata": {},
   "outputs": [
    {
     "name": "stdout",
     "output_type": "stream",
     "text": [
      "1\n",
      "발화 의도 : dust\n",
      "발화 개체 : \n",
      "    DATE : 내일\n",
      "    LOCATION : 제주도\n"
     ]
    }
   ],
   "source": [
    "NLU_result = NLU.run(\"나 내일 제주도 여행가는데 미세먼지 알려줘\")\n",
    "\n",
    "NLU.print_nlu_result(NLU_result)"
   ]
  },
  {
   "cell_type": "code",
   "execution_count": 16,
   "metadata": {},
   "outputs": [
    {
     "name": "stdout",
     "output_type": "stream",
     "text": [
      "1\n",
      "발화 의도 : dust\n",
      "발화 개체 : \n",
      "    DATE : 이번 주\n",
      "    LOCATION : 제주도\n"
     ]
    }
   ],
   "source": [
    "NLU_result = NLU.run(\"나 이번 주 제주도 여행가는데 미세먼지 알려줘\")\n",
    "\n",
    "NLU.print_nlu_result(NLU_result)"
   ]
  },
  {
   "cell_type": "code",
   "execution_count": 17,
   "metadata": {},
   "outputs": [
    {
     "data": {
      "text/plain": [
       "['dust', [[0, 1, 5, 12, 0, 0, 0]]]"
      ]
     },
     "execution_count": 17,
     "metadata": {},
     "output_type": "execute_result"
    }
   ],
   "source": [
    "NLU.nlu_predict"
   ]
  },
  {
   "cell_type": "code",
   "execution_count": null,
   "metadata": {},
   "outputs": [],
   "source": []
  }
 ],
 "metadata": {
  "kernelspec": {
   "display_name": "Python 3",
   "language": "python",
   "name": "python3"
  },
  "language_info": {
   "codemirror_mode": {
    "name": "ipython",
    "version": 3
   },
   "file_extension": ".py",
   "mimetype": "text/x-python",
   "name": "python",
   "nbconvert_exporter": "python",
   "pygments_lexer": "ipython3",
   "version": "3.7.6"
  }
 },
 "nbformat": 4,
 "nbformat_minor": 5
}
